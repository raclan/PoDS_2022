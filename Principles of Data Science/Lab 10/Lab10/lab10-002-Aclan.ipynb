{
  "cells": [
    {
      "cell_type": "markdown",
      "metadata": {
        "id": "ev7mKEvgbYcZ"
      },
      "source": [
        "# Lab 10: Fully Connected Neural Networks\n",
        "\n",
        "In this assignment, we will learn fully connected neural network. \n"
      ]
    },
    {
      "cell_type": "markdown",
      "metadata": {
        "id": "vwZwfFQYbYcc"
      },
      "source": [
        "## 1. Example"
      ]
    },
    {
      "cell_type": "markdown",
      "metadata": {
        "id": "WHnoQz3MbYcd"
      },
      "source": [
        "This assignement should be run on Google Colab where you can use free GPU to accelerate the computation. Please refer to our slides to set up GPU. "
      ]
    },
    {
      "cell_type": "markdown",
      "metadata": {
        "id": "u4Rte_TebYce"
      },
      "source": [
        "### 1. Install Pytorch"
      ]
    },
    {
      "cell_type": "code",
      "execution_count": null,
      "metadata": {
        "colab": {
          "base_uri": "https://localhost:8080/"
        },
        "id": "5YjZrt3dW4SB",
        "outputId": "b5238946-1106-4438-acd6-2cfc5b64ae70"
      },
      "outputs": [
        {
          "output_type": "stream",
          "name": "stdout",
          "text": [
            "Requirement already satisfied: torch in /usr/local/lib/python3.7/dist-packages (1.10.0+cu111)\n",
            "Requirement already satisfied: torchvision in /usr/local/lib/python3.7/dist-packages (0.11.1+cu111)\n",
            "Requirement already satisfied: typing-extensions in /usr/local/lib/python3.7/dist-packages (from torch) (3.10.0.2)\n",
            "Requirement already satisfied: numpy in /usr/local/lib/python3.7/dist-packages (from torchvision) (1.21.5)\n",
            "Requirement already satisfied: pillow!=8.3.0,>=5.3.0 in /usr/local/lib/python3.7/dist-packages (from torchvision) (7.1.2)\n"
          ]
        }
      ],
      "source": [
        "!pip install torch torchvision   # install pytorch"
      ]
    },
    {
      "cell_type": "markdown",
      "metadata": {
        "id": "cqu1YdX2bYch"
      },
      "source": [
        "### 2. Check GPU"
      ]
    },
    {
      "cell_type": "code",
      "execution_count": null,
      "metadata": {
        "colab": {
          "base_uri": "https://localhost:8080/"
        },
        "id": "KH1pKuAAXqzd",
        "outputId": "29da9c8e-820d-4ce7-8011-8edf22456c2f"
      },
      "outputs": [
        {
          "output_type": "stream",
          "name": "stdout",
          "text": [
            "Mon Apr 11 13:17:39 2022       \n",
            "+-----------------------------------------------------------------------------+\n",
            "| NVIDIA-SMI 460.32.03    Driver Version: 460.32.03    CUDA Version: 11.2     |\n",
            "|-------------------------------+----------------------+----------------------+\n",
            "| GPU  Name        Persistence-M| Bus-Id        Disp.A | Volatile Uncorr. ECC |\n",
            "| Fan  Temp  Perf  Pwr:Usage/Cap|         Memory-Usage | GPU-Util  Compute M. |\n",
            "|                               |                      |               MIG M. |\n",
            "|===============================+======================+======================|\n",
            "|   0  Tesla K80           Off  | 00000000:00:04.0 Off |                    0 |\n",
            "| N/A   46C    P8    29W / 149W |      0MiB / 11441MiB |      0%      Default |\n",
            "|                               |                      |                  N/A |\n",
            "+-------------------------------+----------------------+----------------------+\n",
            "                                                                               \n",
            "+-----------------------------------------------------------------------------+\n",
            "| Processes:                                                                  |\n",
            "|  GPU   GI   CI        PID   Type   Process name                  GPU Memory |\n",
            "|        ID   ID                                                   Usage      |\n",
            "|=============================================================================|\n",
            "|  No running processes found                                                 |\n",
            "+-----------------------------------------------------------------------------+\n"
          ]
        }
      ],
      "source": [
        "!/opt/bin/nvidia-smi  #show GPU "
      ]
    },
    {
      "cell_type": "markdown",
      "metadata": {
        "id": "bqmII1sAbYcj"
      },
      "source": [
        "### 3. Mount to google drive (optional)"
      ]
    },
    {
      "cell_type": "code",
      "execution_count": null,
      "metadata": {
        "colab": {
          "base_uri": "https://localhost:8080/"
        },
        "id": "HdWuV25Qb-TM",
        "outputId": "1028bf0a-6700-49b4-a332-3628c5ff7ea1"
      },
      "outputs": [
        {
          "output_type": "stream",
          "name": "stdout",
          "text": [
            "Mounted at /content/gdrive\n"
          ]
        }
      ],
      "source": [
        "from google.colab import drive\n",
        "drive.mount('/content/gdrive')"
      ]
    },
    {
      "cell_type": "markdown",
      "metadata": {
        "id": "_bAPbFl0bYck"
      },
      "source": [
        "### 4. Code"
      ]
    },
    {
      "cell_type": "code",
      "execution_count": null,
      "metadata": {
        "id": "-nVVA8yeXv9c"
      },
      "outputs": [],
      "source": [
        "#Import Libraries\n",
        "from __future__ import print_function\n",
        "import argparse\n",
        "import torch\n",
        "import torch.nn as nn\n",
        "import torch.nn.functional as F\n",
        "import torch.optim as optim\n",
        "from torchvision import datasets, transforms\n",
        "from torch.autograd import Variable"
      ]
    },
    {
      "cell_type": "code",
      "execution_count": null,
      "metadata": {
        "id": "eTnQJNfyhmaE"
      },
      "outputs": [],
      "source": [
        "args={}\n",
        "args['batch_size']=100\n",
        "args['test_batch_size']=100\n",
        "args['epochs']=10  #The number of Epochs is the number of times you go through the full dataset. \n",
        "args['lr']=0.01 #Learning rate is how fast it will decend. \n",
        "args['log_interval']=10"
      ]
    },
    {
      "cell_type": "code",
      "execution_count": null,
      "metadata": {
        "colab": {
          "base_uri": "https://localhost:8080/"
        },
        "id": "4aMP_CHcX7jJ",
        "outputId": "c9846e6e-ebed-4310-ffb0-f630c1bc77ba"
      },
      "outputs": [
        {
          "output_type": "stream",
          "name": "stdout",
          "text": [
            "Net(\n",
            "  (fc1): Linear(in_features=784, out_features=512, bias=True)\n",
            "  (fc2): Linear(in_features=512, out_features=384, bias=True)\n",
            "  (fc3): Linear(in_features=384, out_features=256, bias=True)\n",
            "  (fc4): Linear(in_features=256, out_features=192, bias=True)\n",
            "  (fc5): Linear(in_features=192, out_features=128, bias=True)\n",
            "  (fc6): Linear(in_features=128, out_features=96, bias=True)\n",
            "  (fc7): Linear(in_features=96, out_features=64, bias=True)\n",
            "  (fc8): Linear(in_features=64, out_features=48, bias=True)\n",
            "  (fc9): Linear(in_features=48, out_features=32, bias=True)\n",
            "  (fc10): Linear(in_features=32, out_features=10, bias=True)\n",
            ")\n"
          ]
        }
      ],
      "source": [
        "# build an mlp\n",
        "class Net(nn.Module):\n",
        "    def __init__(self):\n",
        "        super(Net, self).__init__()\n",
        "        \n",
        "        self.fc1 = nn.Linear(28*28, 512)   # linear layer (784 -> 256)\n",
        "        self.fc2 = nn.Linear(512,384)  # linear layer (256 -> 128)\n",
        "        self.fc3 = nn.Linear(384,256)  # linear layer (128 -> 10)\n",
        "        self.fc4 = nn.Linear(256,192) \n",
        "        self.fc5 = nn.Linear(192,128)\n",
        "        self.fc6 = nn.Linear(128,96)\n",
        "        self.fc7 = nn.Linear(96,64)\n",
        "        self.fc8 = nn.Linear(64,48)\n",
        "        self.fc9 = nn.Linear(48,32)\n",
        "        self.fc10 = nn.Linear(32,10)\n",
        "\n",
        "    def forward(self, x):\n",
        "        h0 = x.view(-1,28*28) #input layer\n",
        "        h1 = F.relu(self.fc1(h0)) # hidden layer 1\n",
        "        h2 = F.relu(self.fc2(h1)) # hidden layer 2\n",
        "        h3 = F.relu(self.fc3(h2))\n",
        "        h4 = F.relu(self.fc4(h3))\n",
        "        h5 = F.relu(self.fc5(h4))\n",
        "        h6 = F.relu(self.fc6(h5))\n",
        "        h7 = F.relu(self.fc7(h6))\n",
        "        h8 = F.relu(self.fc8(h7))\n",
        "        h9 = F.relu(self.fc9(h8))\n",
        "        h10 = self.fc10(h9) # output layer\n",
        "\n",
        "        return h10\n",
        "\n",
        "model = Net()\n",
        "model.cuda() # put the model on GPU\n",
        "print(model)"
      ]
    },
    {
      "cell_type": "code",
      "execution_count": null,
      "metadata": {
        "id": "0U9yHGoTZi3e"
      },
      "outputs": [],
      "source": [
        "# loss function\n",
        "criterion = nn.CrossEntropyLoss()\n",
        "\n",
        "# optimizer\n",
        "optimizer = torch.optim.SGD(model.parameters(),lr = args['lr'])"
      ]
    },
    {
      "cell_type": "code",
      "execution_count": null,
      "metadata": {
        "id": "YvuVjPqPabRC"
      },
      "outputs": [],
      "source": [
        "#load the data\n",
        "train_loader = torch.utils.data.DataLoader(\n",
        "    datasets.MNIST('./data', train=True, download=True,\n",
        "                   transform=transforms.Compose([\n",
        "                       transforms.ToTensor(),\n",
        "                       transforms.Normalize((0.1307,), (0.3081,))\n",
        "                   ])),\n",
        "    batch_size=args['batch_size'], shuffle=True)\n",
        "test_loader = torch.utils.data.DataLoader(\n",
        "    datasets.MNIST('./data', train=False, transform=transforms.Compose([\n",
        "                       transforms.ToTensor(),\n",
        "                       transforms.Normalize((0.1307,), (0.3081,))\n",
        "                   ])),\n",
        "    batch_size=args['test_batch_size'], shuffle=False)"
      ]
    },
    {
      "cell_type": "code",
      "execution_count": null,
      "metadata": {
        "id": "YopP0oK5ca2u"
      },
      "outputs": [],
      "source": [
        "def train(epoch):\n",
        "    model.train()\n",
        "    for batch_idx, (data, target) in enumerate(train_loader):\n",
        "        data, target = data.cuda(), target.cuda()\n",
        "        \n",
        "        output = model(data)\n",
        "        loss = criterion(output, target)\n",
        "        train_losses.append(loss.cpu().detach().numpy())\n",
        "\n",
        "        # compute gradients\n",
        "        optimizer.zero_grad()\n",
        "        loss.backward()\n",
        "\n",
        "        #to do a one-step update on our parameter.\n",
        "        optimizer.step()\n",
        "\n",
        "        #Print out the loss periodically. \n",
        "        if batch_idx % args['log_interval'] == 0:\n",
        "            print('Train Epoch: {} [{}/{} ({:.0f}%)]\\tLoss: {:.6f}'.format(\n",
        "                epoch, batch_idx * len(data), len(train_loader.dataset),\n",
        "                100. * batch_idx / len(train_loader), loss.item()))"
      ]
    },
    {
      "cell_type": "code",
      "execution_count": null,
      "metadata": {
        "id": "wLn-uP_sct-a"
      },
      "outputs": [],
      "source": [
        "def test():\n",
        "    model.eval() #do not update parameters anymore\n",
        "    test_loss = 0\n",
        "    correct = 0\n",
        "    for data, target in test_loader:\n",
        "        data, target = data.cuda(), target.cuda()\n",
        "\n",
        "        output = model(data)\n",
        "        test_loss += criterion(output, target).item() # sum up batch loss\n",
        "        pred = output.data.max(1, keepdim=True)[1] \n",
        "        correct += pred.eq(target.data.view_as(pred)).long().cpu().sum()\n",
        "\n",
        "    test_loss /= len(test_loader.dataset)\n",
        "\n",
        "    print('\\nTest set: Average loss: {:.4f}, Accuracy: {}/{} ({:.0f}%)\\n'.format(\n",
        "        test_loss, correct, len(test_loader.dataset),\n",
        "        100. * correct / len(test_loader.dataset)))\n",
        "    test_acc.append(100. * correct / len(test_loader.dataset))\n"
      ]
    },
    {
      "cell_type": "code",
      "execution_count": null,
      "metadata": {
        "colab": {
          "base_uri": "https://localhost:8080/"
        },
        "id": "FgF4zxVlc28U",
        "outputId": "a1f7e396-c9ff-4fe9-960f-48981b41d371"
      },
      "outputs": [
        {
          "output_type": "stream",
          "name": "stdout",
          "text": [
            "Train Epoch: 1 [0/60000 (0%)]\tLoss: 2.317095\n",
            "Train Epoch: 1 [1000/60000 (2%)]\tLoss: 2.315265\n",
            "Train Epoch: 1 [2000/60000 (3%)]\tLoss: 2.309807\n",
            "Train Epoch: 1 [3000/60000 (5%)]\tLoss: 2.311781\n",
            "Train Epoch: 1 [4000/60000 (7%)]\tLoss: 2.302321\n",
            "Train Epoch: 1 [5000/60000 (8%)]\tLoss: 2.300478\n",
            "Train Epoch: 1 [6000/60000 (10%)]\tLoss: 2.299820\n",
            "Train Epoch: 1 [7000/60000 (12%)]\tLoss: 2.285893\n",
            "Train Epoch: 1 [8000/60000 (13%)]\tLoss: 2.306749\n",
            "Train Epoch: 1 [9000/60000 (15%)]\tLoss: 2.309285\n",
            "Train Epoch: 1 [10000/60000 (17%)]\tLoss: 2.314142\n",
            "Train Epoch: 1 [11000/60000 (18%)]\tLoss: 2.298471\n",
            "Train Epoch: 1 [12000/60000 (20%)]\tLoss: 2.296202\n",
            "Train Epoch: 1 [13000/60000 (22%)]\tLoss: 2.311513\n",
            "Train Epoch: 1 [14000/60000 (23%)]\tLoss: 2.314825\n",
            "Train Epoch: 1 [15000/60000 (25%)]\tLoss: 2.311329\n",
            "Train Epoch: 1 [16000/60000 (27%)]\tLoss: 2.314108\n",
            "Train Epoch: 1 [17000/60000 (28%)]\tLoss: 2.299969\n",
            "Train Epoch: 1 [18000/60000 (30%)]\tLoss: 2.296268\n",
            "Train Epoch: 1 [19000/60000 (32%)]\tLoss: 2.318977\n",
            "Train Epoch: 1 [20000/60000 (33%)]\tLoss: 2.305148\n",
            "Train Epoch: 1 [21000/60000 (35%)]\tLoss: 2.302758\n",
            "Train Epoch: 1 [22000/60000 (37%)]\tLoss: 2.293492\n",
            "Train Epoch: 1 [23000/60000 (38%)]\tLoss: 2.315229\n",
            "Train Epoch: 1 [24000/60000 (40%)]\tLoss: 2.299739\n",
            "Train Epoch: 1 [25000/60000 (42%)]\tLoss: 2.317535\n",
            "Train Epoch: 1 [26000/60000 (43%)]\tLoss: 2.303455\n",
            "Train Epoch: 1 [27000/60000 (45%)]\tLoss: 2.299130\n",
            "Train Epoch: 1 [28000/60000 (47%)]\tLoss: 2.308304\n",
            "Train Epoch: 1 [29000/60000 (48%)]\tLoss: 2.315733\n",
            "Train Epoch: 1 [30000/60000 (50%)]\tLoss: 2.297227\n",
            "Train Epoch: 1 [31000/60000 (52%)]\tLoss: 2.306869\n",
            "Train Epoch: 1 [32000/60000 (53%)]\tLoss: 2.299365\n",
            "Train Epoch: 1 [33000/60000 (55%)]\tLoss: 2.304751\n",
            "Train Epoch: 1 [34000/60000 (57%)]\tLoss: 2.307868\n",
            "Train Epoch: 1 [35000/60000 (58%)]\tLoss: 2.298787\n",
            "Train Epoch: 1 [36000/60000 (60%)]\tLoss: 2.305387\n",
            "Train Epoch: 1 [37000/60000 (62%)]\tLoss: 2.294455\n",
            "Train Epoch: 1 [38000/60000 (63%)]\tLoss: 2.307648\n",
            "Train Epoch: 1 [39000/60000 (65%)]\tLoss: 2.309705\n",
            "Train Epoch: 1 [40000/60000 (67%)]\tLoss: 2.293295\n",
            "Train Epoch: 1 [41000/60000 (68%)]\tLoss: 2.296224\n",
            "Train Epoch: 1 [42000/60000 (70%)]\tLoss: 2.293904\n",
            "Train Epoch: 1 [43000/60000 (72%)]\tLoss: 2.311120\n",
            "Train Epoch: 1 [44000/60000 (73%)]\tLoss: 2.307206\n",
            "Train Epoch: 1 [45000/60000 (75%)]\tLoss: 2.306158\n",
            "Train Epoch: 1 [46000/60000 (77%)]\tLoss: 2.308026\n",
            "Train Epoch: 1 [47000/60000 (78%)]\tLoss: 2.297066\n",
            "Train Epoch: 1 [48000/60000 (80%)]\tLoss: 2.307753\n",
            "Train Epoch: 1 [49000/60000 (82%)]\tLoss: 2.297130\n",
            "Train Epoch: 1 [50000/60000 (83%)]\tLoss: 2.307395\n",
            "Train Epoch: 1 [51000/60000 (85%)]\tLoss: 2.307552\n",
            "Train Epoch: 1 [52000/60000 (87%)]\tLoss: 2.300908\n",
            "Train Epoch: 1 [53000/60000 (88%)]\tLoss: 2.297086\n",
            "Train Epoch: 1 [54000/60000 (90%)]\tLoss: 2.306022\n",
            "Train Epoch: 1 [55000/60000 (92%)]\tLoss: 2.300303\n",
            "Train Epoch: 1 [56000/60000 (93%)]\tLoss: 2.308049\n",
            "Train Epoch: 1 [57000/60000 (95%)]\tLoss: 2.299257\n",
            "Train Epoch: 1 [58000/60000 (97%)]\tLoss: 2.298830\n",
            "Train Epoch: 1 [59000/60000 (98%)]\tLoss: 2.297204\n",
            "\n",
            "Test set: Average loss: 0.0230, Accuracy: 1028/10000 (10%)\n",
            "\n",
            "Train Epoch: 2 [0/60000 (0%)]\tLoss: 2.310117\n",
            "Train Epoch: 2 [1000/60000 (2%)]\tLoss: 2.298953\n",
            "Train Epoch: 2 [2000/60000 (3%)]\tLoss: 2.313364\n",
            "Train Epoch: 2 [3000/60000 (5%)]\tLoss: 2.303902\n",
            "Train Epoch: 2 [4000/60000 (7%)]\tLoss: 2.305268\n",
            "Train Epoch: 2 [5000/60000 (8%)]\tLoss: 2.304775\n",
            "Train Epoch: 2 [6000/60000 (10%)]\tLoss: 2.302268\n",
            "Train Epoch: 2 [7000/60000 (12%)]\tLoss: 2.298982\n",
            "Train Epoch: 2 [8000/60000 (13%)]\tLoss: 2.305590\n",
            "Train Epoch: 2 [9000/60000 (15%)]\tLoss: 2.308807\n",
            "Train Epoch: 2 [10000/60000 (17%)]\tLoss: 2.298376\n",
            "Train Epoch: 2 [11000/60000 (18%)]\tLoss: 2.304151\n",
            "Train Epoch: 2 [12000/60000 (20%)]\tLoss: 2.295941\n",
            "Train Epoch: 2 [13000/60000 (22%)]\tLoss: 2.298127\n",
            "Train Epoch: 2 [14000/60000 (23%)]\tLoss: 2.304836\n",
            "Train Epoch: 2 [15000/60000 (25%)]\tLoss: 2.302264\n",
            "Train Epoch: 2 [16000/60000 (27%)]\tLoss: 2.296462\n",
            "Train Epoch: 2 [17000/60000 (28%)]\tLoss: 2.313912\n",
            "Train Epoch: 2 [18000/60000 (30%)]\tLoss: 2.302874\n",
            "Train Epoch: 2 [19000/60000 (32%)]\tLoss: 2.303879\n",
            "Train Epoch: 2 [20000/60000 (33%)]\tLoss: 2.296094\n",
            "Train Epoch: 2 [21000/60000 (35%)]\tLoss: 2.297508\n",
            "Train Epoch: 2 [22000/60000 (37%)]\tLoss: 2.297485\n",
            "Train Epoch: 2 [23000/60000 (38%)]\tLoss: 2.306039\n",
            "Train Epoch: 2 [24000/60000 (40%)]\tLoss: 2.296344\n",
            "Train Epoch: 2 [25000/60000 (42%)]\tLoss: 2.298833\n",
            "Train Epoch: 2 [26000/60000 (43%)]\tLoss: 2.303698\n",
            "Train Epoch: 2 [27000/60000 (45%)]\tLoss: 2.307499\n",
            "Train Epoch: 2 [28000/60000 (47%)]\tLoss: 2.298073\n",
            "Train Epoch: 2 [29000/60000 (48%)]\tLoss: 2.295281\n",
            "Train Epoch: 2 [30000/60000 (50%)]\tLoss: 2.297787\n",
            "Train Epoch: 2 [31000/60000 (52%)]\tLoss: 2.296668\n",
            "Train Epoch: 2 [32000/60000 (53%)]\tLoss: 2.302287\n",
            "Train Epoch: 2 [33000/60000 (55%)]\tLoss: 2.304739\n",
            "Train Epoch: 2 [34000/60000 (57%)]\tLoss: 2.309865\n",
            "Train Epoch: 2 [35000/60000 (58%)]\tLoss: 2.296955\n",
            "Train Epoch: 2 [36000/60000 (60%)]\tLoss: 2.301023\n",
            "Train Epoch: 2 [37000/60000 (62%)]\tLoss: 2.303123\n",
            "Train Epoch: 2 [38000/60000 (63%)]\tLoss: 2.296236\n",
            "Train Epoch: 2 [39000/60000 (65%)]\tLoss: 2.303968\n",
            "Train Epoch: 2 [40000/60000 (67%)]\tLoss: 2.292861\n",
            "Train Epoch: 2 [41000/60000 (68%)]\tLoss: 2.300808\n",
            "Train Epoch: 2 [42000/60000 (70%)]\tLoss: 2.292650\n",
            "Train Epoch: 2 [43000/60000 (72%)]\tLoss: 2.298792\n",
            "Train Epoch: 2 [44000/60000 (73%)]\tLoss: 2.300110\n",
            "Train Epoch: 2 [45000/60000 (75%)]\tLoss: 2.296385\n",
            "Train Epoch: 2 [46000/60000 (77%)]\tLoss: 2.305603\n",
            "Train Epoch: 2 [47000/60000 (78%)]\tLoss: 2.294437\n",
            "Train Epoch: 2 [48000/60000 (80%)]\tLoss: 2.303607\n",
            "Train Epoch: 2 [49000/60000 (82%)]\tLoss: 2.295107\n",
            "Train Epoch: 2 [50000/60000 (83%)]\tLoss: 2.297572\n",
            "Train Epoch: 2 [51000/60000 (85%)]\tLoss: 2.302767\n",
            "Train Epoch: 2 [52000/60000 (87%)]\tLoss: 2.299870\n",
            "Train Epoch: 2 [53000/60000 (88%)]\tLoss: 2.300792\n",
            "Train Epoch: 2 [54000/60000 (90%)]\tLoss: 2.296651\n",
            "Train Epoch: 2 [55000/60000 (92%)]\tLoss: 2.309138\n",
            "Train Epoch: 2 [56000/60000 (93%)]\tLoss: 2.301383\n",
            "Train Epoch: 2 [57000/60000 (95%)]\tLoss: 2.304368\n",
            "Train Epoch: 2 [58000/60000 (97%)]\tLoss: 2.307104\n",
            "Train Epoch: 2 [59000/60000 (98%)]\tLoss: 2.300973\n",
            "\n",
            "Test set: Average loss: 0.0230, Accuracy: 1135/10000 (11%)\n",
            "\n",
            "Train Epoch: 3 [0/60000 (0%)]\tLoss: 2.295928\n",
            "Train Epoch: 3 [1000/60000 (2%)]\tLoss: 2.309312\n",
            "Train Epoch: 3 [2000/60000 (3%)]\tLoss: 2.296483\n",
            "Train Epoch: 3 [3000/60000 (5%)]\tLoss: 2.300225\n",
            "Train Epoch: 3 [4000/60000 (7%)]\tLoss: 2.296948\n",
            "Train Epoch: 3 [5000/60000 (8%)]\tLoss: 2.306884\n",
            "Train Epoch: 3 [6000/60000 (10%)]\tLoss: 2.304324\n",
            "Train Epoch: 3 [7000/60000 (12%)]\tLoss: 2.304518\n",
            "Train Epoch: 3 [8000/60000 (13%)]\tLoss: 2.297445\n",
            "Train Epoch: 3 [9000/60000 (15%)]\tLoss: 2.295331\n",
            "Train Epoch: 3 [10000/60000 (17%)]\tLoss: 2.296219\n",
            "Train Epoch: 3 [11000/60000 (18%)]\tLoss: 2.297323\n",
            "Train Epoch: 3 [12000/60000 (20%)]\tLoss: 2.299966\n",
            "Train Epoch: 3 [13000/60000 (22%)]\tLoss: 2.296200\n",
            "Train Epoch: 3 [14000/60000 (23%)]\tLoss: 2.300227\n",
            "Train Epoch: 3 [15000/60000 (25%)]\tLoss: 2.295320\n",
            "Train Epoch: 3 [16000/60000 (27%)]\tLoss: 2.293042\n",
            "Train Epoch: 3 [17000/60000 (28%)]\tLoss: 2.299119\n",
            "Train Epoch: 3 [18000/60000 (30%)]\tLoss: 2.296288\n",
            "Train Epoch: 3 [19000/60000 (32%)]\tLoss: 2.310805\n",
            "Train Epoch: 3 [20000/60000 (33%)]\tLoss: 2.306295\n",
            "Train Epoch: 3 [21000/60000 (35%)]\tLoss: 2.296354\n",
            "Train Epoch: 3 [22000/60000 (37%)]\tLoss: 2.302245\n",
            "Train Epoch: 3 [23000/60000 (38%)]\tLoss: 2.299620\n",
            "Train Epoch: 3 [24000/60000 (40%)]\tLoss: 2.301594\n",
            "Train Epoch: 3 [25000/60000 (42%)]\tLoss: 2.310586\n",
            "Train Epoch: 3 [26000/60000 (43%)]\tLoss: 2.301118\n",
            "Train Epoch: 3 [27000/60000 (45%)]\tLoss: 2.301035\n",
            "Train Epoch: 3 [28000/60000 (47%)]\tLoss: 2.308450\n",
            "Train Epoch: 3 [29000/60000 (48%)]\tLoss: 2.303080\n",
            "Train Epoch: 3 [30000/60000 (50%)]\tLoss: 2.297804\n",
            "Train Epoch: 3 [31000/60000 (52%)]\tLoss: 2.293560\n",
            "Train Epoch: 3 [32000/60000 (53%)]\tLoss: 2.303379\n",
            "Train Epoch: 3 [33000/60000 (55%)]\tLoss: 2.303839\n",
            "Train Epoch: 3 [34000/60000 (57%)]\tLoss: 2.302492\n",
            "Train Epoch: 3 [35000/60000 (58%)]\tLoss: 2.305168\n",
            "Train Epoch: 3 [36000/60000 (60%)]\tLoss: 2.303371\n",
            "Train Epoch: 3 [37000/60000 (62%)]\tLoss: 2.308278\n",
            "Train Epoch: 3 [38000/60000 (63%)]\tLoss: 2.293786\n",
            "Train Epoch: 3 [39000/60000 (65%)]\tLoss: 2.303100\n",
            "Train Epoch: 3 [40000/60000 (67%)]\tLoss: 2.299453\n",
            "Train Epoch: 3 [41000/60000 (68%)]\tLoss: 2.303340\n",
            "Train Epoch: 3 [42000/60000 (70%)]\tLoss: 2.303641\n",
            "Train Epoch: 3 [43000/60000 (72%)]\tLoss: 2.306331\n",
            "Train Epoch: 3 [44000/60000 (73%)]\tLoss: 2.305073\n",
            "Train Epoch: 3 [45000/60000 (75%)]\tLoss: 2.295350\n",
            "Train Epoch: 3 [46000/60000 (77%)]\tLoss: 2.295741\n",
            "Train Epoch: 3 [47000/60000 (78%)]\tLoss: 2.307099\n",
            "Train Epoch: 3 [48000/60000 (80%)]\tLoss: 2.307426\n",
            "Train Epoch: 3 [49000/60000 (82%)]\tLoss: 2.306069\n",
            "Train Epoch: 3 [50000/60000 (83%)]\tLoss: 2.298610\n",
            "Train Epoch: 3 [51000/60000 (85%)]\tLoss: 2.305315\n",
            "Train Epoch: 3 [52000/60000 (87%)]\tLoss: 2.303858\n",
            "Train Epoch: 3 [53000/60000 (88%)]\tLoss: 2.301044\n",
            "Train Epoch: 3 [54000/60000 (90%)]\tLoss: 2.300812\n",
            "Train Epoch: 3 [55000/60000 (92%)]\tLoss: 2.306233\n",
            "Train Epoch: 3 [56000/60000 (93%)]\tLoss: 2.306280\n",
            "Train Epoch: 3 [57000/60000 (95%)]\tLoss: 2.300866\n",
            "Train Epoch: 3 [58000/60000 (97%)]\tLoss: 2.298904\n",
            "Train Epoch: 3 [59000/60000 (98%)]\tLoss: 2.306292\n",
            "\n",
            "Test set: Average loss: 0.0230, Accuracy: 1135/10000 (11%)\n",
            "\n",
            "Train Epoch: 4 [0/60000 (0%)]\tLoss: 2.300786\n",
            "Train Epoch: 4 [1000/60000 (2%)]\tLoss: 2.296536\n",
            "Train Epoch: 4 [2000/60000 (3%)]\tLoss: 2.304800\n",
            "Train Epoch: 4 [3000/60000 (5%)]\tLoss: 2.304373\n",
            "Train Epoch: 4 [4000/60000 (7%)]\tLoss: 2.303730\n",
            "Train Epoch: 4 [5000/60000 (8%)]\tLoss: 2.303227\n",
            "Train Epoch: 4 [6000/60000 (10%)]\tLoss: 2.295123\n",
            "Train Epoch: 4 [7000/60000 (12%)]\tLoss: 2.313498\n",
            "Train Epoch: 4 [8000/60000 (13%)]\tLoss: 2.301680\n",
            "Train Epoch: 4 [9000/60000 (15%)]\tLoss: 2.301247\n",
            "Train Epoch: 4 [10000/60000 (17%)]\tLoss: 2.304882\n",
            "Train Epoch: 4 [11000/60000 (18%)]\tLoss: 2.298338\n",
            "Train Epoch: 4 [12000/60000 (20%)]\tLoss: 2.309410\n",
            "Train Epoch: 4 [13000/60000 (22%)]\tLoss: 2.294343\n",
            "Train Epoch: 4 [14000/60000 (23%)]\tLoss: 2.295628\n",
            "Train Epoch: 4 [15000/60000 (25%)]\tLoss: 2.302355\n",
            "Train Epoch: 4 [16000/60000 (27%)]\tLoss: 2.293153\n",
            "Train Epoch: 4 [17000/60000 (28%)]\tLoss: 2.302493\n",
            "Train Epoch: 4 [18000/60000 (30%)]\tLoss: 2.298548\n",
            "Train Epoch: 4 [19000/60000 (32%)]\tLoss: 2.302340\n",
            "Train Epoch: 4 [20000/60000 (33%)]\tLoss: 2.301222\n",
            "Train Epoch: 4 [21000/60000 (35%)]\tLoss: 2.301547\n",
            "Train Epoch: 4 [22000/60000 (37%)]\tLoss: 2.294147\n",
            "Train Epoch: 4 [23000/60000 (38%)]\tLoss: 2.293027\n",
            "Train Epoch: 4 [24000/60000 (40%)]\tLoss: 2.306648\n",
            "Train Epoch: 4 [25000/60000 (42%)]\tLoss: 2.305193\n",
            "Train Epoch: 4 [26000/60000 (43%)]\tLoss: 2.295096\n",
            "Train Epoch: 4 [27000/60000 (45%)]\tLoss: 2.299216\n",
            "Train Epoch: 4 [28000/60000 (47%)]\tLoss: 2.296070\n",
            "Train Epoch: 4 [29000/60000 (48%)]\tLoss: 2.306008\n",
            "Train Epoch: 4 [30000/60000 (50%)]\tLoss: 2.294906\n",
            "Train Epoch: 4 [31000/60000 (52%)]\tLoss: 2.303769\n",
            "Train Epoch: 4 [32000/60000 (53%)]\tLoss: 2.294561\n",
            "Train Epoch: 4 [33000/60000 (55%)]\tLoss: 2.292946\n",
            "Train Epoch: 4 [34000/60000 (57%)]\tLoss: 2.294698\n",
            "Train Epoch: 4 [35000/60000 (58%)]\tLoss: 2.298152\n",
            "Train Epoch: 4 [36000/60000 (60%)]\tLoss: 2.293958\n",
            "Train Epoch: 4 [37000/60000 (62%)]\tLoss: 2.296334\n",
            "Train Epoch: 4 [38000/60000 (63%)]\tLoss: 2.305510\n",
            "Train Epoch: 4 [39000/60000 (65%)]\tLoss: 2.298635\n",
            "Train Epoch: 4 [40000/60000 (67%)]\tLoss: 2.295312\n",
            "Train Epoch: 4 [41000/60000 (68%)]\tLoss: 2.302140\n",
            "Train Epoch: 4 [42000/60000 (70%)]\tLoss: 2.287993\n",
            "Train Epoch: 4 [43000/60000 (72%)]\tLoss: 2.310757\n",
            "Train Epoch: 4 [44000/60000 (73%)]\tLoss: 2.303077\n",
            "Train Epoch: 4 [45000/60000 (75%)]\tLoss: 2.299862\n",
            "Train Epoch: 4 [46000/60000 (77%)]\tLoss: 2.298524\n",
            "Train Epoch: 4 [47000/60000 (78%)]\tLoss: 2.300468\n",
            "Train Epoch: 4 [48000/60000 (80%)]\tLoss: 2.294545\n",
            "Train Epoch: 4 [49000/60000 (82%)]\tLoss: 2.295000\n",
            "Train Epoch: 4 [50000/60000 (83%)]\tLoss: 2.306254\n",
            "Train Epoch: 4 [51000/60000 (85%)]\tLoss: 2.307241\n",
            "Train Epoch: 4 [52000/60000 (87%)]\tLoss: 2.299719\n",
            "Train Epoch: 4 [53000/60000 (88%)]\tLoss: 2.312241\n",
            "Train Epoch: 4 [54000/60000 (90%)]\tLoss: 2.294488\n",
            "Train Epoch: 4 [55000/60000 (92%)]\tLoss: 2.311518\n",
            "Train Epoch: 4 [56000/60000 (93%)]\tLoss: 2.300563\n",
            "Train Epoch: 4 [57000/60000 (95%)]\tLoss: 2.306309\n",
            "Train Epoch: 4 [58000/60000 (97%)]\tLoss: 2.303822\n",
            "Train Epoch: 4 [59000/60000 (98%)]\tLoss: 2.301673\n",
            "\n",
            "Test set: Average loss: 0.0230, Accuracy: 1135/10000 (11%)\n",
            "\n",
            "Train Epoch: 5 [0/60000 (0%)]\tLoss: 2.311281\n",
            "Train Epoch: 5 [1000/60000 (2%)]\tLoss: 2.299717\n",
            "Train Epoch: 5 [2000/60000 (3%)]\tLoss: 2.300074\n",
            "Train Epoch: 5 [3000/60000 (5%)]\tLoss: 2.297768\n",
            "Train Epoch: 5 [4000/60000 (7%)]\tLoss: 2.307755\n",
            "Train Epoch: 5 [5000/60000 (8%)]\tLoss: 2.304077\n",
            "Train Epoch: 5 [6000/60000 (10%)]\tLoss: 2.302599\n",
            "Train Epoch: 5 [7000/60000 (12%)]\tLoss: 2.301625\n",
            "Train Epoch: 5 [8000/60000 (13%)]\tLoss: 2.310973\n",
            "Train Epoch: 5 [9000/60000 (15%)]\tLoss: 2.304275\n",
            "Train Epoch: 5 [10000/60000 (17%)]\tLoss: 2.302108\n",
            "Train Epoch: 5 [11000/60000 (18%)]\tLoss: 2.303147\n",
            "Train Epoch: 5 [12000/60000 (20%)]\tLoss: 2.302706\n",
            "Train Epoch: 5 [13000/60000 (22%)]\tLoss: 2.304203\n",
            "Train Epoch: 5 [14000/60000 (23%)]\tLoss: 2.302664\n",
            "Train Epoch: 5 [15000/60000 (25%)]\tLoss: 2.301796\n",
            "Train Epoch: 5 [16000/60000 (27%)]\tLoss: 2.296107\n",
            "Train Epoch: 5 [17000/60000 (28%)]\tLoss: 2.300637\n",
            "Train Epoch: 5 [18000/60000 (30%)]\tLoss: 2.305418\n",
            "Train Epoch: 5 [19000/60000 (32%)]\tLoss: 2.300049\n",
            "Train Epoch: 5 [20000/60000 (33%)]\tLoss: 2.296160\n",
            "Train Epoch: 5 [21000/60000 (35%)]\tLoss: 2.298850\n",
            "Train Epoch: 5 [22000/60000 (37%)]\tLoss: 2.301360\n",
            "Train Epoch: 5 [23000/60000 (38%)]\tLoss: 2.298882\n",
            "Train Epoch: 5 [24000/60000 (40%)]\tLoss: 2.305844\n",
            "Train Epoch: 5 [25000/60000 (42%)]\tLoss: 2.298402\n",
            "Train Epoch: 5 [26000/60000 (43%)]\tLoss: 2.296024\n",
            "Train Epoch: 5 [27000/60000 (45%)]\tLoss: 2.296130\n",
            "Train Epoch: 5 [28000/60000 (47%)]\tLoss: 2.296283\n",
            "Train Epoch: 5 [29000/60000 (48%)]\tLoss: 2.297940\n",
            "Train Epoch: 5 [30000/60000 (50%)]\tLoss: 2.291606\n",
            "Train Epoch: 5 [31000/60000 (52%)]\tLoss: 2.309405\n",
            "Train Epoch: 5 [32000/60000 (53%)]\tLoss: 2.301404\n",
            "Train Epoch: 5 [33000/60000 (55%)]\tLoss: 2.297214\n",
            "Train Epoch: 5 [34000/60000 (57%)]\tLoss: 2.296367\n",
            "Train Epoch: 5 [35000/60000 (58%)]\tLoss: 2.310866\n",
            "Train Epoch: 5 [36000/60000 (60%)]\tLoss: 2.303423\n",
            "Train Epoch: 5 [37000/60000 (62%)]\tLoss: 2.301172\n",
            "Train Epoch: 5 [38000/60000 (63%)]\tLoss: 2.312800\n",
            "Train Epoch: 5 [39000/60000 (65%)]\tLoss: 2.300926\n",
            "Train Epoch: 5 [40000/60000 (67%)]\tLoss: 2.293059\n",
            "Train Epoch: 5 [41000/60000 (68%)]\tLoss: 2.303447\n",
            "Train Epoch: 5 [42000/60000 (70%)]\tLoss: 2.303258\n",
            "Train Epoch: 5 [43000/60000 (72%)]\tLoss: 2.295134\n",
            "Train Epoch: 5 [44000/60000 (73%)]\tLoss: 2.302864\n",
            "Train Epoch: 5 [45000/60000 (75%)]\tLoss: 2.309021\n",
            "Train Epoch: 5 [46000/60000 (77%)]\tLoss: 2.298694\n",
            "Train Epoch: 5 [47000/60000 (78%)]\tLoss: 2.300804\n",
            "Train Epoch: 5 [48000/60000 (80%)]\tLoss: 2.300786\n",
            "Train Epoch: 5 [49000/60000 (82%)]\tLoss: 2.288021\n",
            "Train Epoch: 5 [50000/60000 (83%)]\tLoss: 2.308064\n",
            "Train Epoch: 5 [51000/60000 (85%)]\tLoss: 2.299104\n",
            "Train Epoch: 5 [52000/60000 (87%)]\tLoss: 2.299663\n",
            "Train Epoch: 5 [53000/60000 (88%)]\tLoss: 2.299123\n",
            "Train Epoch: 5 [54000/60000 (90%)]\tLoss: 2.302375\n",
            "Train Epoch: 5 [55000/60000 (92%)]\tLoss: 2.296591\n",
            "Train Epoch: 5 [56000/60000 (93%)]\tLoss: 2.304569\n",
            "Train Epoch: 5 [57000/60000 (95%)]\tLoss: 2.305657\n",
            "Train Epoch: 5 [58000/60000 (97%)]\tLoss: 2.294680\n",
            "Train Epoch: 5 [59000/60000 (98%)]\tLoss: 2.297487\n",
            "\n",
            "Test set: Average loss: 0.0230, Accuracy: 1135/10000 (11%)\n",
            "\n",
            "Train Epoch: 6 [0/60000 (0%)]\tLoss: 2.296649\n",
            "Train Epoch: 6 [1000/60000 (2%)]\tLoss: 2.301419\n",
            "Train Epoch: 6 [2000/60000 (3%)]\tLoss: 2.304036\n",
            "Train Epoch: 6 [3000/60000 (5%)]\tLoss: 2.297864\n",
            "Train Epoch: 6 [4000/60000 (7%)]\tLoss: 2.299656\n",
            "Train Epoch: 6 [5000/60000 (8%)]\tLoss: 2.298530\n",
            "Train Epoch: 6 [6000/60000 (10%)]\tLoss: 2.304165\n",
            "Train Epoch: 6 [7000/60000 (12%)]\tLoss: 2.301833\n",
            "Train Epoch: 6 [8000/60000 (13%)]\tLoss: 2.308770\n",
            "Train Epoch: 6 [9000/60000 (15%)]\tLoss: 2.299526\n",
            "Train Epoch: 6 [10000/60000 (17%)]\tLoss: 2.292183\n",
            "Train Epoch: 6 [11000/60000 (18%)]\tLoss: 2.310531\n",
            "Train Epoch: 6 [12000/60000 (20%)]\tLoss: 2.301548\n",
            "Train Epoch: 6 [13000/60000 (22%)]\tLoss: 2.297236\n",
            "Train Epoch: 6 [14000/60000 (23%)]\tLoss: 2.299437\n",
            "Train Epoch: 6 [15000/60000 (25%)]\tLoss: 2.301338\n",
            "Train Epoch: 6 [16000/60000 (27%)]\tLoss: 2.302207\n",
            "Train Epoch: 6 [17000/60000 (28%)]\tLoss: 2.298013\n",
            "Train Epoch: 6 [18000/60000 (30%)]\tLoss: 2.314728\n",
            "Train Epoch: 6 [19000/60000 (32%)]\tLoss: 2.306371\n",
            "Train Epoch: 6 [20000/60000 (33%)]\tLoss: 2.294100\n",
            "Train Epoch: 6 [21000/60000 (35%)]\tLoss: 2.303710\n",
            "Train Epoch: 6 [22000/60000 (37%)]\tLoss: 2.292152\n",
            "Train Epoch: 6 [23000/60000 (38%)]\tLoss: 2.308696\n",
            "Train Epoch: 6 [24000/60000 (40%)]\tLoss: 2.299510\n",
            "Train Epoch: 6 [25000/60000 (42%)]\tLoss: 2.298777\n",
            "Train Epoch: 6 [26000/60000 (43%)]\tLoss: 2.311206\n",
            "Train Epoch: 6 [27000/60000 (45%)]\tLoss: 2.298902\n",
            "Train Epoch: 6 [28000/60000 (47%)]\tLoss: 2.300678\n",
            "Train Epoch: 6 [29000/60000 (48%)]\tLoss: 2.303563\n",
            "Train Epoch: 6 [30000/60000 (50%)]\tLoss: 2.303786\n",
            "Train Epoch: 6 [31000/60000 (52%)]\tLoss: 2.300494\n",
            "Train Epoch: 6 [32000/60000 (53%)]\tLoss: 2.303193\n",
            "Train Epoch: 6 [33000/60000 (55%)]\tLoss: 2.310689\n",
            "Train Epoch: 6 [34000/60000 (57%)]\tLoss: 2.293713\n",
            "Train Epoch: 6 [35000/60000 (58%)]\tLoss: 2.295255\n",
            "Train Epoch: 6 [36000/60000 (60%)]\tLoss: 2.306752\n",
            "Train Epoch: 6 [37000/60000 (62%)]\tLoss: 2.303727\n",
            "Train Epoch: 6 [38000/60000 (63%)]\tLoss: 2.303287\n",
            "Train Epoch: 6 [39000/60000 (65%)]\tLoss: 2.296268\n",
            "Train Epoch: 6 [40000/60000 (67%)]\tLoss: 2.305898\n",
            "Train Epoch: 6 [41000/60000 (68%)]\tLoss: 2.292023\n",
            "Train Epoch: 6 [42000/60000 (70%)]\tLoss: 2.299968\n",
            "Train Epoch: 6 [43000/60000 (72%)]\tLoss: 2.288975\n",
            "Train Epoch: 6 [44000/60000 (73%)]\tLoss: 2.304258\n",
            "Train Epoch: 6 [45000/60000 (75%)]\tLoss: 2.301839\n",
            "Train Epoch: 6 [46000/60000 (77%)]\tLoss: 2.294167\n",
            "Train Epoch: 6 [47000/60000 (78%)]\tLoss: 2.305499\n",
            "Train Epoch: 6 [48000/60000 (80%)]\tLoss: 2.299979\n",
            "Train Epoch: 6 [49000/60000 (82%)]\tLoss: 2.291782\n",
            "Train Epoch: 6 [50000/60000 (83%)]\tLoss: 2.303485\n",
            "Train Epoch: 6 [51000/60000 (85%)]\tLoss: 2.299117\n",
            "Train Epoch: 6 [52000/60000 (87%)]\tLoss: 2.303520\n",
            "Train Epoch: 6 [53000/60000 (88%)]\tLoss: 2.307109\n",
            "Train Epoch: 6 [54000/60000 (90%)]\tLoss: 2.295434\n",
            "Train Epoch: 6 [55000/60000 (92%)]\tLoss: 2.291662\n",
            "Train Epoch: 6 [56000/60000 (93%)]\tLoss: 2.297441\n",
            "Train Epoch: 6 [57000/60000 (95%)]\tLoss: 2.305672\n",
            "Train Epoch: 6 [58000/60000 (97%)]\tLoss: 2.301158\n",
            "Train Epoch: 6 [59000/60000 (98%)]\tLoss: 2.300300\n",
            "\n",
            "Test set: Average loss: 0.0230, Accuracy: 1135/10000 (11%)\n",
            "\n",
            "Train Epoch: 7 [0/60000 (0%)]\tLoss: 2.308427\n",
            "Train Epoch: 7 [1000/60000 (2%)]\tLoss: 2.302571\n",
            "Train Epoch: 7 [2000/60000 (3%)]\tLoss: 2.306142\n",
            "Train Epoch: 7 [3000/60000 (5%)]\tLoss: 2.304812\n",
            "Train Epoch: 7 [4000/60000 (7%)]\tLoss: 2.289634\n",
            "Train Epoch: 7 [5000/60000 (8%)]\tLoss: 2.300329\n",
            "Train Epoch: 7 [6000/60000 (10%)]\tLoss: 2.298978\n",
            "Train Epoch: 7 [7000/60000 (12%)]\tLoss: 2.300653\n",
            "Train Epoch: 7 [8000/60000 (13%)]\tLoss: 2.296558\n",
            "Train Epoch: 7 [9000/60000 (15%)]\tLoss: 2.299259\n",
            "Train Epoch: 7 [10000/60000 (17%)]\tLoss: 2.308323\n",
            "Train Epoch: 7 [11000/60000 (18%)]\tLoss: 2.301111\n",
            "Train Epoch: 7 [12000/60000 (20%)]\tLoss: 2.295846\n",
            "Train Epoch: 7 [13000/60000 (22%)]\tLoss: 2.295639\n",
            "Train Epoch: 7 [14000/60000 (23%)]\tLoss: 2.299054\n",
            "Train Epoch: 7 [15000/60000 (25%)]\tLoss: 2.295622\n",
            "Train Epoch: 7 [16000/60000 (27%)]\tLoss: 2.299718\n",
            "Train Epoch: 7 [17000/60000 (28%)]\tLoss: 2.297949\n",
            "Train Epoch: 7 [18000/60000 (30%)]\tLoss: 2.293533\n",
            "Train Epoch: 7 [19000/60000 (32%)]\tLoss: 2.306900\n",
            "Train Epoch: 7 [20000/60000 (33%)]\tLoss: 2.298904\n",
            "Train Epoch: 7 [21000/60000 (35%)]\tLoss: 2.299217\n",
            "Train Epoch: 7 [22000/60000 (37%)]\tLoss: 2.296849\n",
            "Train Epoch: 7 [23000/60000 (38%)]\tLoss: 2.298278\n",
            "Train Epoch: 7 [24000/60000 (40%)]\tLoss: 2.295909\n",
            "Train Epoch: 7 [25000/60000 (42%)]\tLoss: 2.305360\n",
            "Train Epoch: 7 [26000/60000 (43%)]\tLoss: 2.309657\n",
            "Train Epoch: 7 [27000/60000 (45%)]\tLoss: 2.299873\n",
            "Train Epoch: 7 [28000/60000 (47%)]\tLoss: 2.290730\n",
            "Train Epoch: 7 [29000/60000 (48%)]\tLoss: 2.306560\n",
            "Train Epoch: 7 [30000/60000 (50%)]\tLoss: 2.308212\n",
            "Train Epoch: 7 [31000/60000 (52%)]\tLoss: 2.298325\n",
            "Train Epoch: 7 [32000/60000 (53%)]\tLoss: 2.297486\n",
            "Train Epoch: 7 [33000/60000 (55%)]\tLoss: 2.297354\n",
            "Train Epoch: 7 [34000/60000 (57%)]\tLoss: 2.302159\n",
            "Train Epoch: 7 [35000/60000 (58%)]\tLoss: 2.304418\n",
            "Train Epoch: 7 [36000/60000 (60%)]\tLoss: 2.300188\n",
            "Train Epoch: 7 [37000/60000 (62%)]\tLoss: 2.295929\n",
            "Train Epoch: 7 [38000/60000 (63%)]\tLoss: 2.310477\n",
            "Train Epoch: 7 [39000/60000 (65%)]\tLoss: 2.304195\n",
            "Train Epoch: 7 [40000/60000 (67%)]\tLoss: 2.302216\n",
            "Train Epoch: 7 [41000/60000 (68%)]\tLoss: 2.300942\n",
            "Train Epoch: 7 [42000/60000 (70%)]\tLoss: 2.303677\n",
            "Train Epoch: 7 [43000/60000 (72%)]\tLoss: 2.307620\n",
            "Train Epoch: 7 [44000/60000 (73%)]\tLoss: 2.299368\n",
            "Train Epoch: 7 [45000/60000 (75%)]\tLoss: 2.301752\n",
            "Train Epoch: 7 [46000/60000 (77%)]\tLoss: 2.299566\n",
            "Train Epoch: 7 [47000/60000 (78%)]\tLoss: 2.297762\n",
            "Train Epoch: 7 [48000/60000 (80%)]\tLoss: 2.304399\n",
            "Train Epoch: 7 [49000/60000 (82%)]\tLoss: 2.307276\n",
            "Train Epoch: 7 [50000/60000 (83%)]\tLoss: 2.300231\n",
            "Train Epoch: 7 [51000/60000 (85%)]\tLoss: 2.305945\n",
            "Train Epoch: 7 [52000/60000 (87%)]\tLoss: 2.299385\n",
            "Train Epoch: 7 [53000/60000 (88%)]\tLoss: 2.291482\n",
            "Train Epoch: 7 [54000/60000 (90%)]\tLoss: 2.301202\n",
            "Train Epoch: 7 [55000/60000 (92%)]\tLoss: 2.294880\n",
            "Train Epoch: 7 [56000/60000 (93%)]\tLoss: 2.297028\n",
            "Train Epoch: 7 [57000/60000 (95%)]\tLoss: 2.303701\n",
            "Train Epoch: 7 [58000/60000 (97%)]\tLoss: 2.306692\n",
            "Train Epoch: 7 [59000/60000 (98%)]\tLoss: 2.297580\n",
            "\n",
            "Test set: Average loss: 0.0230, Accuracy: 1135/10000 (11%)\n",
            "\n",
            "Train Epoch: 8 [0/60000 (0%)]\tLoss: 2.305303\n",
            "Train Epoch: 8 [1000/60000 (2%)]\tLoss: 2.297812\n",
            "Train Epoch: 8 [2000/60000 (3%)]\tLoss: 2.303789\n",
            "Train Epoch: 8 [3000/60000 (5%)]\tLoss: 2.295645\n",
            "Train Epoch: 8 [4000/60000 (7%)]\tLoss: 2.299798\n",
            "Train Epoch: 8 [5000/60000 (8%)]\tLoss: 2.303085\n",
            "Train Epoch: 8 [6000/60000 (10%)]\tLoss: 2.299400\n",
            "Train Epoch: 8 [7000/60000 (12%)]\tLoss: 2.292694\n",
            "Train Epoch: 8 [8000/60000 (13%)]\tLoss: 2.299797\n",
            "Train Epoch: 8 [9000/60000 (15%)]\tLoss: 2.299819\n",
            "Train Epoch: 8 [10000/60000 (17%)]\tLoss: 2.307876\n",
            "Train Epoch: 8 [11000/60000 (18%)]\tLoss: 2.298330\n",
            "Train Epoch: 8 [12000/60000 (20%)]\tLoss: 2.305076\n",
            "Train Epoch: 8 [13000/60000 (22%)]\tLoss: 2.303171\n",
            "Train Epoch: 8 [14000/60000 (23%)]\tLoss: 2.297638\n",
            "Train Epoch: 8 [15000/60000 (25%)]\tLoss: 2.302571\n",
            "Train Epoch: 8 [16000/60000 (27%)]\tLoss: 2.301540\n",
            "Train Epoch: 8 [17000/60000 (28%)]\tLoss: 2.298603\n",
            "Train Epoch: 8 [18000/60000 (30%)]\tLoss: 2.297027\n",
            "Train Epoch: 8 [19000/60000 (32%)]\tLoss: 2.301490\n",
            "Train Epoch: 8 [20000/60000 (33%)]\tLoss: 2.301958\n",
            "Train Epoch: 8 [21000/60000 (35%)]\tLoss: 2.295902\n",
            "Train Epoch: 8 [22000/60000 (37%)]\tLoss: 2.295641\n",
            "Train Epoch: 8 [23000/60000 (38%)]\tLoss: 2.302542\n",
            "Train Epoch: 8 [24000/60000 (40%)]\tLoss: 2.300719\n",
            "Train Epoch: 8 [25000/60000 (42%)]\tLoss: 2.300420\n",
            "Train Epoch: 8 [26000/60000 (43%)]\tLoss: 2.296773\n",
            "Train Epoch: 8 [27000/60000 (45%)]\tLoss: 2.298218\n",
            "Train Epoch: 8 [28000/60000 (47%)]\tLoss: 2.298132\n",
            "Train Epoch: 8 [29000/60000 (48%)]\tLoss: 2.302032\n",
            "Train Epoch: 8 [30000/60000 (50%)]\tLoss: 2.287988\n",
            "Train Epoch: 8 [31000/60000 (52%)]\tLoss: 2.301567\n",
            "Train Epoch: 8 [32000/60000 (53%)]\tLoss: 2.307262\n",
            "Train Epoch: 8 [33000/60000 (55%)]\tLoss: 2.299524\n",
            "Train Epoch: 8 [34000/60000 (57%)]\tLoss: 2.299317\n",
            "Train Epoch: 8 [35000/60000 (58%)]\tLoss: 2.309136\n",
            "Train Epoch: 8 [36000/60000 (60%)]\tLoss: 2.300888\n",
            "Train Epoch: 8 [37000/60000 (62%)]\tLoss: 2.296843\n",
            "Train Epoch: 8 [38000/60000 (63%)]\tLoss: 2.298271\n",
            "Train Epoch: 8 [39000/60000 (65%)]\tLoss: 2.295839\n",
            "Train Epoch: 8 [40000/60000 (67%)]\tLoss: 2.301212\n",
            "Train Epoch: 8 [41000/60000 (68%)]\tLoss: 2.298805\n",
            "Train Epoch: 8 [42000/60000 (70%)]\tLoss: 2.298398\n",
            "Train Epoch: 8 [43000/60000 (72%)]\tLoss: 2.299963\n",
            "Train Epoch: 8 [44000/60000 (73%)]\tLoss: 2.309827\n",
            "Train Epoch: 8 [45000/60000 (75%)]\tLoss: 2.302772\n",
            "Train Epoch: 8 [46000/60000 (77%)]\tLoss: 2.296809\n",
            "Train Epoch: 8 [47000/60000 (78%)]\tLoss: 2.301685\n",
            "Train Epoch: 8 [48000/60000 (80%)]\tLoss: 2.302258\n",
            "Train Epoch: 8 [49000/60000 (82%)]\tLoss: 2.299032\n",
            "Train Epoch: 8 [50000/60000 (83%)]\tLoss: 2.304280\n",
            "Train Epoch: 8 [51000/60000 (85%)]\tLoss: 2.302706\n",
            "Train Epoch: 8 [52000/60000 (87%)]\tLoss: 2.304815\n",
            "Train Epoch: 8 [53000/60000 (88%)]\tLoss: 2.305426\n",
            "Train Epoch: 8 [54000/60000 (90%)]\tLoss: 2.292032\n",
            "Train Epoch: 8 [55000/60000 (92%)]\tLoss: 2.303460\n",
            "Train Epoch: 8 [56000/60000 (93%)]\tLoss: 2.295122\n",
            "Train Epoch: 8 [57000/60000 (95%)]\tLoss: 2.293365\n",
            "Train Epoch: 8 [58000/60000 (97%)]\tLoss: 2.288156\n",
            "Train Epoch: 8 [59000/60000 (98%)]\tLoss: 2.302473\n",
            "\n",
            "Test set: Average loss: 0.0230, Accuracy: 1135/10000 (11%)\n",
            "\n",
            "Train Epoch: 9 [0/60000 (0%)]\tLoss: 2.303185\n",
            "Train Epoch: 9 [1000/60000 (2%)]\tLoss: 2.288600\n",
            "Train Epoch: 9 [2000/60000 (3%)]\tLoss: 2.297009\n",
            "Train Epoch: 9 [3000/60000 (5%)]\tLoss: 2.308593\n",
            "Train Epoch: 9 [4000/60000 (7%)]\tLoss: 2.300004\n",
            "Train Epoch: 9 [5000/60000 (8%)]\tLoss: 2.298422\n",
            "Train Epoch: 9 [6000/60000 (10%)]\tLoss: 2.297880\n",
            "Train Epoch: 9 [7000/60000 (12%)]\tLoss: 2.293072\n",
            "Train Epoch: 9 [8000/60000 (13%)]\tLoss: 2.300272\n",
            "Train Epoch: 9 [9000/60000 (15%)]\tLoss: 2.297210\n",
            "Train Epoch: 9 [10000/60000 (17%)]\tLoss: 2.296660\n",
            "Train Epoch: 9 [11000/60000 (18%)]\tLoss: 2.305064\n",
            "Train Epoch: 9 [12000/60000 (20%)]\tLoss: 2.307209\n",
            "Train Epoch: 9 [13000/60000 (22%)]\tLoss: 2.294529\n",
            "Train Epoch: 9 [14000/60000 (23%)]\tLoss: 2.300687\n",
            "Train Epoch: 9 [15000/60000 (25%)]\tLoss: 2.299741\n",
            "Train Epoch: 9 [16000/60000 (27%)]\tLoss: 2.302620\n",
            "Train Epoch: 9 [17000/60000 (28%)]\tLoss: 2.307380\n",
            "Train Epoch: 9 [18000/60000 (30%)]\tLoss: 2.307274\n",
            "Train Epoch: 9 [19000/60000 (32%)]\tLoss: 2.295023\n",
            "Train Epoch: 9 [20000/60000 (33%)]\tLoss: 2.307120\n",
            "Train Epoch: 9 [21000/60000 (35%)]\tLoss: 2.306107\n",
            "Train Epoch: 9 [22000/60000 (37%)]\tLoss: 2.299870\n",
            "Train Epoch: 9 [23000/60000 (38%)]\tLoss: 2.306923\n",
            "Train Epoch: 9 [24000/60000 (40%)]\tLoss: 2.305657\n",
            "Train Epoch: 9 [25000/60000 (42%)]\tLoss: 2.311428\n",
            "Train Epoch: 9 [26000/60000 (43%)]\tLoss: 2.298652\n",
            "Train Epoch: 9 [27000/60000 (45%)]\tLoss: 2.303515\n",
            "Train Epoch: 9 [28000/60000 (47%)]\tLoss: 2.304368\n",
            "Train Epoch: 9 [29000/60000 (48%)]\tLoss: 2.305643\n",
            "Train Epoch: 9 [30000/60000 (50%)]\tLoss: 2.294903\n",
            "Train Epoch: 9 [31000/60000 (52%)]\tLoss: 2.305544\n",
            "Train Epoch: 9 [32000/60000 (53%)]\tLoss: 2.291109\n",
            "Train Epoch: 9 [33000/60000 (55%)]\tLoss: 2.295249\n",
            "Train Epoch: 9 [34000/60000 (57%)]\tLoss: 2.302212\n",
            "Train Epoch: 9 [35000/60000 (58%)]\tLoss: 2.302840\n",
            "Train Epoch: 9 [36000/60000 (60%)]\tLoss: 2.303511\n",
            "Train Epoch: 9 [37000/60000 (62%)]\tLoss: 2.289993\n",
            "Train Epoch: 9 [38000/60000 (63%)]\tLoss: 2.312840\n",
            "Train Epoch: 9 [39000/60000 (65%)]\tLoss: 2.300370\n",
            "Train Epoch: 9 [40000/60000 (67%)]\tLoss: 2.300349\n",
            "Train Epoch: 9 [41000/60000 (68%)]\tLoss: 2.303968\n",
            "Train Epoch: 9 [42000/60000 (70%)]\tLoss: 2.291544\n",
            "Train Epoch: 9 [43000/60000 (72%)]\tLoss: 2.298029\n",
            "Train Epoch: 9 [44000/60000 (73%)]\tLoss: 2.296342\n",
            "Train Epoch: 9 [45000/60000 (75%)]\tLoss: 2.310108\n",
            "Train Epoch: 9 [46000/60000 (77%)]\tLoss: 2.296793\n",
            "Train Epoch: 9 [47000/60000 (78%)]\tLoss: 2.305881\n",
            "Train Epoch: 9 [48000/60000 (80%)]\tLoss: 2.296636\n",
            "Train Epoch: 9 [49000/60000 (82%)]\tLoss: 2.300915\n",
            "Train Epoch: 9 [50000/60000 (83%)]\tLoss: 2.300115\n",
            "Train Epoch: 9 [51000/60000 (85%)]\tLoss: 2.296658\n",
            "Train Epoch: 9 [52000/60000 (87%)]\tLoss: 2.291233\n",
            "Train Epoch: 9 [53000/60000 (88%)]\tLoss: 2.300691\n",
            "Train Epoch: 9 [54000/60000 (90%)]\tLoss: 2.290072\n",
            "Train Epoch: 9 [55000/60000 (92%)]\tLoss: 2.301873\n",
            "Train Epoch: 9 [56000/60000 (93%)]\tLoss: 2.308639\n",
            "Train Epoch: 9 [57000/60000 (95%)]\tLoss: 2.296127\n",
            "Train Epoch: 9 [58000/60000 (97%)]\tLoss: 2.301263\n",
            "Train Epoch: 9 [59000/60000 (98%)]\tLoss: 2.289590\n",
            "\n",
            "Test set: Average loss: 0.0230, Accuracy: 1135/10000 (11%)\n",
            "\n",
            "Train Epoch: 10 [0/60000 (0%)]\tLoss: 2.301626\n",
            "Train Epoch: 10 [1000/60000 (2%)]\tLoss: 2.301464\n",
            "Train Epoch: 10 [2000/60000 (3%)]\tLoss: 2.290583\n",
            "Train Epoch: 10 [3000/60000 (5%)]\tLoss: 2.302812\n",
            "Train Epoch: 10 [4000/60000 (7%)]\tLoss: 2.292405\n",
            "Train Epoch: 10 [5000/60000 (8%)]\tLoss: 2.309838\n",
            "Train Epoch: 10 [6000/60000 (10%)]\tLoss: 2.301527\n",
            "Train Epoch: 10 [7000/60000 (12%)]\tLoss: 2.296972\n",
            "Train Epoch: 10 [8000/60000 (13%)]\tLoss: 2.301594\n",
            "Train Epoch: 10 [9000/60000 (15%)]\tLoss: 2.306669\n",
            "Train Epoch: 10 [10000/60000 (17%)]\tLoss: 2.303217\n",
            "Train Epoch: 10 [11000/60000 (18%)]\tLoss: 2.295488\n",
            "Train Epoch: 10 [12000/60000 (20%)]\tLoss: 2.300264\n",
            "Train Epoch: 10 [13000/60000 (22%)]\tLoss: 2.306071\n",
            "Train Epoch: 10 [14000/60000 (23%)]\tLoss: 2.301319\n",
            "Train Epoch: 10 [15000/60000 (25%)]\tLoss: 2.297169\n",
            "Train Epoch: 10 [16000/60000 (27%)]\tLoss: 2.305364\n",
            "Train Epoch: 10 [17000/60000 (28%)]\tLoss: 2.298769\n",
            "Train Epoch: 10 [18000/60000 (30%)]\tLoss: 2.304350\n",
            "Train Epoch: 10 [19000/60000 (32%)]\tLoss: 2.299371\n",
            "Train Epoch: 10 [20000/60000 (33%)]\tLoss: 2.305769\n",
            "Train Epoch: 10 [21000/60000 (35%)]\tLoss: 2.309166\n",
            "Train Epoch: 10 [22000/60000 (37%)]\tLoss: 2.304601\n",
            "Train Epoch: 10 [23000/60000 (38%)]\tLoss: 2.304269\n",
            "Train Epoch: 10 [24000/60000 (40%)]\tLoss: 2.299460\n",
            "Train Epoch: 10 [25000/60000 (42%)]\tLoss: 2.296687\n",
            "Train Epoch: 10 [26000/60000 (43%)]\tLoss: 2.299977\n",
            "Train Epoch: 10 [27000/60000 (45%)]\tLoss: 2.305403\n",
            "Train Epoch: 10 [28000/60000 (47%)]\tLoss: 2.298900\n",
            "Train Epoch: 10 [29000/60000 (48%)]\tLoss: 2.308143\n",
            "Train Epoch: 10 [30000/60000 (50%)]\tLoss: 2.299735\n",
            "Train Epoch: 10 [31000/60000 (52%)]\tLoss: 2.305320\n",
            "Train Epoch: 10 [32000/60000 (53%)]\tLoss: 2.309034\n",
            "Train Epoch: 10 [33000/60000 (55%)]\tLoss: 2.304537\n",
            "Train Epoch: 10 [34000/60000 (57%)]\tLoss: 2.296114\n",
            "Train Epoch: 10 [35000/60000 (58%)]\tLoss: 2.291086\n",
            "Train Epoch: 10 [36000/60000 (60%)]\tLoss: 2.299226\n",
            "Train Epoch: 10 [37000/60000 (62%)]\tLoss: 2.300714\n",
            "Train Epoch: 10 [38000/60000 (63%)]\tLoss: 2.306264\n",
            "Train Epoch: 10 [39000/60000 (65%)]\tLoss: 2.287581\n",
            "Train Epoch: 10 [40000/60000 (67%)]\tLoss: 2.298949\n",
            "Train Epoch: 10 [41000/60000 (68%)]\tLoss: 2.295081\n",
            "Train Epoch: 10 [42000/60000 (70%)]\tLoss: 2.299890\n",
            "Train Epoch: 10 [43000/60000 (72%)]\tLoss: 2.300302\n",
            "Train Epoch: 10 [44000/60000 (73%)]\tLoss: 2.302305\n",
            "Train Epoch: 10 [45000/60000 (75%)]\tLoss: 2.301915\n",
            "Train Epoch: 10 [46000/60000 (77%)]\tLoss: 2.309926\n",
            "Train Epoch: 10 [47000/60000 (78%)]\tLoss: 2.300299\n",
            "Train Epoch: 10 [48000/60000 (80%)]\tLoss: 2.300014\n",
            "Train Epoch: 10 [49000/60000 (82%)]\tLoss: 2.290284\n",
            "Train Epoch: 10 [50000/60000 (83%)]\tLoss: 2.305698\n",
            "Train Epoch: 10 [51000/60000 (85%)]\tLoss: 2.303428\n",
            "Train Epoch: 10 [52000/60000 (87%)]\tLoss: 2.286717\n",
            "Train Epoch: 10 [53000/60000 (88%)]\tLoss: 2.292743\n",
            "Train Epoch: 10 [54000/60000 (90%)]\tLoss: 2.294388\n",
            "Train Epoch: 10 [55000/60000 (92%)]\tLoss: 2.292315\n",
            "Train Epoch: 10 [56000/60000 (93%)]\tLoss: 2.293295\n",
            "Train Epoch: 10 [57000/60000 (95%)]\tLoss: 2.303705\n",
            "Train Epoch: 10 [58000/60000 (97%)]\tLoss: 2.294827\n",
            "Train Epoch: 10 [59000/60000 (98%)]\tLoss: 2.306705\n",
            "\n",
            "Test set: Average loss: 0.0230, Accuracy: 1135/10000 (11%)\n",
            "\n"
          ]
        }
      ],
      "source": [
        "train_losses = []\n",
        "test_acc = []\n",
        "for epoch in range(1, args['epochs'] + 1):\n",
        "    train(epoch)\n",
        "    test()"
      ]
    },
    {
      "cell_type": "markdown",
      "metadata": {
        "id": "1OipUVawbYcr"
      },
      "source": [
        "## 2. Tasks"
      ]
    },
    {
      "cell_type": "markdown",
      "metadata": {
        "id": "GA50s29XbYcs"
      },
      "source": [
        "### 1. Please use other activation functions, e.g., sigmoid, tanh, and then plot the training loss and testing accuracy. \n",
        "\n",
        "When plotting the training loss, the x-axis is iteration and the y-axis is training loss. When plotting the testing accuracy,  the x-axis is epoch and the y-axis is the testing accuracy."
      ]
    },
    {
      "cell_type": "code",
      "execution_count": null,
      "metadata": {
        "id": "SCUF04MYbYcs",
        "colab": {
          "base_uri": "https://localhost:8080/",
          "height": 295
        },
        "outputId": "86692e80-1498-4e38-fc20-a0bc168f926b"
      },
      "outputs": [
        {
          "output_type": "display_data",
          "data": {
            "text/plain": [
              "<Figure size 432x288 with 1 Axes>"
            ],
            "image/png": "[encoded data removed]"
          },
          "metadata": {
            "needs_background": "light"
          }
        }
      ],
      "source": [
        "# your code\n",
        "import matplotlib.pyplot as plt\n",
        "\n",
        "plt.plot(train_losses)\n",
        "plt.xlabel('Number of Iterations')\n",
        "plt.ylabel('Train Losses')\n",
        "plt.title('Train Losses w/ tanh')\n",
        "plt.show()"
      ]
    },
    {
      "cell_type": "code",
      "source": [
        "plt.plot(test_acc)\n",
        "plt.xlabel('Number of epochs')\n",
        "plt.ylabel('Test Accuracy')\n",
        "plt.title('Test Accuracy w/ tanh')\n",
        "plt.show()"
      ],
      "metadata": {
        "colab": {
          "base_uri": "https://localhost:8080/",
          "height": 295
        },
        "id": "SAjOkbxL4yp9",
        "outputId": "43958d3b-624f-45ae-eab9-a1a01567bc38"
      },
      "execution_count": null,
      "outputs": [
        {
          "output_type": "display_data",
          "data": {
            "text/plain": [
              "<Figure size 432x288 with 1 Axes>"
            ],
            "image/png": "[encoded data removed]"
          },
          "metadata": {
            "needs_background": "light"
          }
        }
      ]
    },
    {
      "cell_type": "code",
      "source": [
        "plt.plot(train_losses)\n",
        "plt.xlabel('Number of Iterations')\n",
        "plt.ylabel('Train Losses')\n",
        "plt.title('Train Losses w/ sigmoid')\n",
        "plt.show()"
      ],
      "metadata": {
        "colab": {
          "base_uri": "https://localhost:8080/",
          "height": 295
        },
        "id": "b0SAcpIp-OIK",
        "outputId": "e3e6d678-284b-491a-b5b6-37eebd05b7c9"
      },
      "execution_count": null,
      "outputs": [
        {
          "output_type": "display_data",
          "data": {
            "text/plain": [
              "<Figure size 432x288 with 1 Axes>"
            ],
            "image/png": "[encoded data removed]"
          },
          "metadata": {
            "needs_background": "light"
          }
        }
      ]
    },
    {
      "cell_type": "code",
      "source": [
        "plt.plot(test_acc)\n",
        "plt.xlabel('Number of epochs')\n",
        "plt.ylabel('Test Accuracy')\n",
        "plt.title('Test Accuracy w/ sigmoid')\n",
        "plt.show()"
      ],
      "metadata": {
        "colab": {
          "base_uri": "https://localhost:8080/",
          "height": 295
        },
        "id": "cVR5b03k-NfP",
        "outputId": "4b13913f-a92a-451d-9ea1-ce1d3d768901"
      },
      "execution_count": null,
      "outputs": [
        {
          "output_type": "display_data",
          "data": {
            "text/plain": [
              "<Figure size 432x288 with 1 Axes>"
            ],
            "image/png": "[encoded data removed]"
          },
          "metadata": {
            "needs_background": "light"
          }
        }
      ]
    },
    {
      "cell_type": "markdown",
      "metadata": {
        "id": "j-ThwUJxbYcs"
      },
      "source": [
        "### 2. Please use different layers in the model, e.g., 1 layer, 5 layers, 10 layers,  and then plot the training loss and testing accuracy."
      ]
    },
    {
      "cell_type": "code",
      "execution_count": null,
      "metadata": {
        "id": "D2fTAFyEbYcs",
        "colab": {
          "base_uri": "https://localhost:8080/",
          "height": 295
        },
        "outputId": "94214dc7-1fb3-4bb1-ea7c-1caabd0a946a"
      },
      "outputs": [
        {
          "output_type": "display_data",
          "data": {
            "text/plain": [
              "<Figure size 432x288 with 1 Axes>"
            ],
            "image/png": "[encoded data removed]"
          },
          "metadata": {
            "needs_background": "light"
          }
        }
      ],
      "source": [
        "# your code\n",
        "plt.plot(train_losses)\n",
        "plt.xlabel('Number of Iterations')\n",
        "plt.ylabel('Train Losses')\n",
        "plt.title('Train Losses w/ 5 layers')\n",
        "plt.show()"
      ]
    },
    {
      "cell_type": "code",
      "source": [
        "plt.plot(test_acc)\n",
        "plt.xlabel('Number of epochs')\n",
        "plt.ylabel('Test Accuracy')\n",
        "plt.title('Test Accuracy w/ 5 layers')\n",
        "plt.show()"
      ],
      "metadata": {
        "colab": {
          "base_uri": "https://localhost:8080/",
          "height": 295
        },
        "id": "xkS8CMdy6E2h",
        "outputId": "6f352096-5bf2-4f6b-ab45-49c3914edb17"
      },
      "execution_count": null,
      "outputs": [
        {
          "output_type": "display_data",
          "data": {
            "text/plain": [
              "<Figure size 432x288 with 1 Axes>"
            ],
            "image/png": "[encoded data removed]"
          },
          "metadata": {
            "needs_background": "light"
          }
        }
      ]
    },
    {
      "cell_type": "code",
      "source": [
        "plt.plot(train_losses)\n",
        "plt.xlabel('Number of Iterations')\n",
        "plt.ylabel('Train Losses')\n",
        "plt.title('Train Losses w/ 10 layers')\n",
        "plt.show()"
      ],
      "metadata": {
        "colab": {
          "base_uri": "https://localhost:8080/",
          "height": 295
        },
        "id": "at6FTLVdBCfj",
        "outputId": "3f4f925c-94dd-48db-f740-84d8c20e6768"
      },
      "execution_count": null,
      "outputs": [
        {
          "output_type": "display_data",
          "data": {
            "text/plain": [
              "<Figure size 432x288 with 1 Axes>"
            ],
            "image/png": "[encoded data removed]"
          },
          "metadata": {
            "needs_background": "light"
          }
        }
      ]
    },
    {
      "cell_type": "code",
      "source": [
        "plt.plot(test_acc)\n",
        "plt.xlabel('Number of epochs')\n",
        "plt.ylabel('Test Accuracy')\n",
        "plt.title('Test Accuracy w/ 10 layers')\n",
        "plt.show()"
      ],
      "metadata": {
        "colab": {
          "base_uri": "https://localhost:8080/",
          "height": 295
        },
        "id": "mBUBlljqByq1",
        "outputId": "4ef3c7bf-429a-48cc-ecbe-012fba110005"
      },
      "execution_count": null,
      "outputs": [
        {
          "output_type": "display_data",
          "data": {
            "text/plain": [
              "<Figure size 432x288 with 1 Axes>"
            ],
            "image/png": "[encoded data removed]"
          },
          "metadata": {
            "needs_background": "light"
          }
        }
      ]
    },
    {
      "cell_type": "code",
      "source": [
        ""
      ],
      "metadata": {
        "id": "UvS137nPEm3u"
      },
      "execution_count": null,
      "outputs": []
    }
  ],
  "metadata": {
    "accelerator": "GPU",
    "colab": {
      "collapsed_sections": [],
      "name": "lab10-002-Aclan.ipynb",
      "provenance": []
    },
    "kernelspec": {
      "display_name": "Python 3",
      "language": "python",
      "name": "python3"
    },
    "language_info": {
      "codemirror_mode": {
        "name": "ipython",
        "version": 3
      },
      "file_extension": ".py",
      "mimetype": "text/x-python",
      "name": "python",
      "nbconvert_exporter": "python",
      "pygments_lexer": "ipython3",
      "version": "3.7.6"
    }
  },
  "nbformat": 4,
  "nbformat_minor": 0
}